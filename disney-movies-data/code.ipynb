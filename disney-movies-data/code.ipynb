{
  "cells": [
    {
      "cell_type": "code",
      "execution_count": 4,
      "metadata": {
        "id": "nj9JcqAYkk7V"
      },
      "outputs": [],
      "source": [
        "import pandas as pd\n",
        "import numpy as np\n",
        "import matplotlib.pyplot as plt\n",
        "from bs4 import BeautifulSoup as bs\n",
        "import requests"
      ]
    },
    {
      "cell_type": "markdown",
      "metadata": {
        "id": "QWfM7sEaH_EM"
      },
      "source": [
        "## combining 2 page of table data together into 1 big table!"
      ]
    },
    {
      "cell_type": "code",
      "execution_count": 10,
      "metadata": {
        "id": "KjaAq9FxUKP4"
      },
      "outputs": [],
      "source": [
        "def get_content_value(row):\n",
        "  if (row.find('li')):\n",
        "    return [x.get_text(\" \",strip=True).replace(\"\\xa0\",\" \").replace(\"[1]\",\"\").strip() for x in row.find_all('li')]\n",
        "  else:\n",
        "    return row.find('td').get_text(\" \",strip=True).replace(\"\\xa0\",\" \").replace(\"[1]\",\"\").strip()\n",
        "def clean_tags(soup):\n",
        "  for tag in soup.find_all('sup'):\n",
        "    tag.decompose()\n",
        "def get_info_box(url):\n",
        "  movie_info={}\n",
        "  r = requests.get(url)\n",
        "  soup = bs(r.content)\n",
        "  info_box = soup.find('table',attrs={'class':'infobox vevent'})\n",
        "  info_row = info_box.find_all('tr')\n",
        "  clean_tags(soup)\n",
        "  for index,row in enumerate(info_row):\n",
        "      if (index==0):\n",
        "        movie_info['title']=row.find('th').get_text(\" \",strip=True)     #strip would remove the extra spaces and \" \" will be used as a join work\n",
        "      elif (index==1):\n",
        "        continue\n",
        "      else:\n",
        "        movie_info[row.find('th').get_text(\" \",strip=True)]=get_content_value(row)\n",
        "  return movie_info"
      ]
    },
    {
      "cell_type": "code",
      "execution_count": null,
      "metadata": {
        "id": "zoJI3OoQ6-TN"
      },
      "outputs": [],
      "source": [
        "def get_row(r):\n",
        "    return [x.get_text().replace('\\n','') for x in r.find_all('td')]\n",
        "\n",
        "r2 = requests.get('https://en.wikipedia.org/wiki/List_of_Walt_Disney_Pictures_films')\n",
        "soup2 = bs(r2.content)\n",
        "movie_list_tables = soup2.find_all('table',attrs={'class':'wikitable sortable'})\n",
        "column_name = [x.get_text().replace(\"\\n\",\"\") for x in movie_list_tables[0].find_all('th')]\n",
        "rows=[]\n",
        "for table in movie_list_tables[0:9]:\n",
        "    tr=table.find_all('tr')\n",
        "    for row in tr:\n",
        "      if (row.find('td')):\n",
        "        try:\n",
        "          page = 'https://en.wikipedia.org/'+row.select('td i a')[0].get('href')\n",
        "          rows.append(get_info_box(page))\n",
        "        except Exception as e:\n",
        "          print(e)\n",
        "      else:\n",
        "        continue\n",
        "rows"
      ]
    },
    {
      "cell_type": "code",
      "execution_count": null,
      "metadata": {
        "colab": {
          "base_uri": "https://localhost:8080/",
          "height": 17
        },
        "id": "wh2BAg3YbRKr",
        "outputId": "be9ee421-969a-414a-8da3-cc55cf837944"
      },
      "outputs": [],
      "source": [
        "df = pd.DataFrame(rows)\n",
        "df.to_csv('all-disney-movies.csv',index=False)"
      ]
    },
    {
      "cell_type": "code",
      "execution_count": null,
      "metadata": {},
      "outputs": [],
      "source": [
        "# creating json for easy load/save\n",
        "\n",
        "import json\n",
        "def save_data(title,data):\n",
        "    with open(title,'w',encoding='utf-8') as f:\n",
        "        json.dump(data,f,ensure_ascii=False,indent=2)\n",
        "def load_data(title):\n",
        "    with open(title,encoding='utf-8') as f:\n",
        "        return json.load(f)\n",
        "    \n",
        "save_data(\"all-disney-movies.json\",rows)"
      ]
    },
    {
      "cell_type": "markdown",
      "metadata": {
        "id": "Nv5nqHfjHunu"
      },
      "source": [
        "## Normal methods to extract info from a given movie"
      ]
    },
    {
      "cell_type": "code",
      "execution_count": null,
      "metadata": {
        "id": "5Oqqnq0Lk7Uy"
      },
      "outputs": [],
      "source": [
        "r=requests.get('https://en.wikipedia.org/wiki/Toy_Story_3')\n",
        "soup = bs(r.content)\n",
        "info_box = soup.find('table',attrs={'class':'infobox vevent'})\n",
        "info_row = info_box.find_all('tr')\n",
        "for row in info_row:\n",
        "    print(row.prettify())"
      ]
    },
    {
      "cell_type": "code",
      "execution_count": null,
      "metadata": {
        "id": "Jvyqiyv-qCPL"
      },
      "outputs": [],
      "source": [
        "# this block helps to extract info from a movie wikipedia page\n",
        "\n",
        "def get_content_value(row):\n",
        "  if (row.find('li')):\n",
        "    return [x.get_text(\" \",strip=True).replace(\"\\xa0\",\" \").replace(\"[1]\",\"\").strip() for x in row.find_all('li')]\n",
        "  else:\n",
        "    return row.find('td').get_text(\" \",strip=True).replace(\"\\xa0\",\" \").replace(\"[1]\",\"\").strip()\n",
        "movie_info={}\n",
        "for index,row in enumerate(info_row):\n",
        "    if (index==0):\n",
        "      movie_info['title']=row.find('th').get_text(\" \",strip=True)     #strip would remove the extra spaces and \" \" will be used as a join work\n",
        "    elif (index==1):\n",
        "      continue\n",
        "    else:\n",
        "      movie_info[row.find('th').get_text(\" \",strip=True)]=get_content_value(row)\n",
        "movie_info"
      ]
    },
    {
      "cell_type": "markdown",
      "metadata": {
        "id": "uOywZ6QhH5Uy"
      },
      "source": [
        "## Below block creates a dataframe with just 3 basic columns from the main wiki page"
      ]
    },
    {
      "cell_type": "code",
      "execution_count": null,
      "metadata": {
        "id": "SB-BseW32bP5"
      },
      "outputs": [],
      "source": [
        "def get_row(r):\n",
        "    return [x.get_text().replace('\\n','') for x in r.find_all('td')]\n",
        "\n",
        "r2 = requests.get('https://en.wikipedia.org/wiki/List_of_Walt_Disney_Pictures_films')\n",
        "soup2 = bs(r2.content)\n",
        "movie_list_tables = soup2.find_all('table',attrs={'class':'wikitable sortable'})\n",
        "column_name = [x.get_text().replace(\"\\n\",\"\") for x in movie_list_tables[0].find_all('th')]\n",
        "rows=[]\n",
        "for table in movie_list_tables:\n",
        "    tr=table.find_all('tr')\n",
        "    for row in tr:\n",
        "      if (row.find('td')):\n",
        "        if (len(row.find_all('td'))>3):\n",
        "          continue\n",
        "        else:\n",
        "          rows.append(get_row(row))\n",
        "      else:\n",
        "        continue\n",
        "\n",
        "df = pd.DataFrame(rows,columns=column_name)\n",
        "df"
      ]
    },
    {
      "cell_type": "markdown",
      "metadata": {
        "id": "iOJrcRgYgsVo"
      },
      "source": [
        "## Basic Data Cleaning"
      ]
    },
    {
      "cell_type": "code",
      "execution_count": 91,
      "metadata": {
        "id": "BTpX1y8ogrh3"
      },
      "outputs": [
        {
          "data": {
            "text/html": [
              "<div>\n",
              "<style scoped>\n",
              "    .dataframe tbody tr th:only-of-type {\n",
              "        vertical-align: middle;\n",
              "    }\n",
              "\n",
              "    .dataframe tbody tr th {\n",
              "        vertical-align: top;\n",
              "    }\n",
              "\n",
              "    .dataframe thead th {\n",
              "        text-align: right;\n",
              "    }\n",
              "</style>\n",
              "<table border=\"1\" class=\"dataframe\">\n",
              "  <thead>\n",
              "    <tr style=\"text-align: right;\">\n",
              "      <th></th>\n",
              "      <th>Budget</th>\n",
              "      <th>Box office</th>\n",
              "    </tr>\n",
              "  </thead>\n",
              "  <tbody>\n",
              "    <tr>\n",
              "      <th>0</th>\n",
              "      <td>1.5 million</td>\n",
              "      <td>418 million</td>\n",
              "    </tr>\n",
              "    <tr>\n",
              "      <th>1</th>\n",
              "      <td>2.6 million</td>\n",
              "      <td>164 million</td>\n",
              "    </tr>\n",
              "    <tr>\n",
              "      <th>2</th>\n",
              "      <td>2.28 million</td>\n",
              "      <td>76.4–83.3 million</td>\n",
              "    </tr>\n",
              "    <tr>\n",
              "      <th>3</th>\n",
              "      <td>600000</td>\n",
              "      <td>960000</td>\n",
              "    </tr>\n",
              "    <tr>\n",
              "      <th>4</th>\n",
              "      <td>950000</td>\n",
              "      <td>&gt;1.3 million</td>\n",
              "    </tr>\n",
              "    <tr>\n",
              "      <th>...</th>\n",
              "      <td>...</td>\n",
              "      <td>...</td>\n",
              "    </tr>\n",
              "    <tr>\n",
              "      <th>507</th>\n",
              "      <td>295 million</td>\n",
              "      <td>384 million</td>\n",
              "    </tr>\n",
              "    <tr>\n",
              "      <th>508</th>\n",
              "      <td>150 million</td>\n",
              "      <td>117.5 million</td>\n",
              "    </tr>\n",
              "    <tr>\n",
              "      <th>509</th>\n",
              "      <td></td>\n",
              "      <td></td>\n",
              "    </tr>\n",
              "    <tr>\n",
              "      <th>510</th>\n",
              "      <td>175–200 million</td>\n",
              "      <td>244.1 million</td>\n",
              "    </tr>\n",
              "    <tr>\n",
              "      <th>511</th>\n",
              "      <td></td>\n",
              "      <td></td>\n",
              "    </tr>\n",
              "  </tbody>\n",
              "</table>\n",
              "<p>512 rows × 2 columns</p>\n",
              "</div>"
            ],
            "text/plain": [
              "              Budget         Box office\n",
              "0        1.5 million        418 million\n",
              "1        2.6 million        164 million\n",
              "2       2.28 million  76.4–83.3 million\n",
              "3             600000             960000\n",
              "4             950000       >1.3 million\n",
              "..               ...                ...\n",
              "507      295 million        384 million\n",
              "508      150 million      117.5 million\n",
              "509                                    \n",
              "510  175–200 million      244.1 million\n",
              "511                                    \n",
              "\n",
              "[512 rows x 2 columns]"
            ]
          },
          "execution_count": 91,
          "metadata": {},
          "output_type": "execute_result"
        }
      ],
      "source": [
        "df = pd.read_csv('all-disney-movies.csv')\n",
        "\n",
        "#removing extra things from budget and box office\n",
        "\n",
        "df['Budget'] = df['Budget'].fillna(\"\")\n",
        "df['Budget'] = [' '.join(x.split(' ')[:2]) for x in df['Budget']]\n",
        "df['Budget'] = [x.split(' [')[0]  for x in df['Budget']]\n",
        "df['Budget'] = df['Budget'].replace('[\\$,]', '', regex=True)\n",
        "\n",
        "df['Box office'] = df['Box office'].fillna(\"\")\n",
        "df['Box office'] = [x.split('[')[0].strip() for x in df['Box office']]\n",
        "df['Box office'] = [x.split('(')[0].strip() for x in df['Box office']]\n",
        "df['Box office'] = df['Box office'].replace('[\\$,]', '', regex=True)\n",
        "\n",
        "df['Directed by']=df['Directed by'].fillna(\"\")"
      ]
    }
  ],
  "metadata": {
    "colab": {
      "provenance": []
    },
    "kernelspec": {
      "display_name": "Python 3",
      "name": "python3"
    },
    "language_info": {
      "codemirror_mode": {
        "name": "ipython",
        "version": 3
      },
      "file_extension": ".py",
      "mimetype": "text/x-python",
      "name": "python",
      "nbconvert_exporter": "python",
      "pygments_lexer": "ipython3",
      "version": "3.10.11"
    }
  },
  "nbformat": 4,
  "nbformat_minor": 0
}
